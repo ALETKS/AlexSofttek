{
 "cells": [
  {
   "cell_type": "code",
   "execution_count": 1,
   "metadata": {},
   "outputs": [
    {
     "name": "stderr",
     "output_type": "stream",
     "text": [
      "C:\\Users\\Alex\\AppData\\Local\\Temp\\ipykernel_10816\\2685798214.py:3: FutureWarning: pandas.io.json.json_normalize is deprecated, use pandas.json_normalize instead.\n",
      "  df = pd.io.json.json_normalize(df.season)\n"
     ]
    },
    {
     "data": {
      "text/html": [
       "<div>\n",
       "<style scoped>\n",
       "    .dataframe tbody tr th:only-of-type {\n",
       "        vertical-align: middle;\n",
       "    }\n",
       "\n",
       "    .dataframe tbody tr th {\n",
       "        vertical-align: top;\n",
       "    }\n",
       "\n",
       "    .dataframe thead th {\n",
       "        text-align: right;\n",
       "    }\n",
       "</style>\n",
       "<table border=\"1\" class=\"dataframe\">\n",
       "  <thead>\n",
       "    <tr style=\"text-align: right;\">\n",
       "      <th></th>\n",
       "      <th>id</th>\n",
       "      <th>ORD_ID</th>\n",
       "      <th>ORD_DT</th>\n",
       "      <th>season</th>\n",
       "    </tr>\n",
       "  </thead>\n",
       "  <tbody>\n",
       "    <tr>\n",
       "      <th>0</th>\n",
       "      <td>1</td>\n",
       "      <td>113-8909896-6940269</td>\n",
       "      <td>2019-09-23</td>\n",
       "      <td>fall</td>\n",
       "    </tr>\n",
       "    <tr>\n",
       "      <th>1</th>\n",
       "      <td>2</td>\n",
       "      <td>114-0291773-7262677</td>\n",
       "      <td>2020-01-01</td>\n",
       "      <td>winter</td>\n",
       "    </tr>\n",
       "    <tr>\n",
       "      <th>2</th>\n",
       "      <td>3</td>\n",
       "      <td>114-0291773-7262697</td>\n",
       "      <td>2019-12-05</td>\n",
       "      <td>fall</td>\n",
       "    </tr>\n",
       "    <tr>\n",
       "      <th>3</th>\n",
       "      <td>4</td>\n",
       "      <td>114-9900513-7761000</td>\n",
       "      <td>2020-09-24</td>\n",
       "      <td>fall</td>\n",
       "    </tr>\n",
       "    <tr>\n",
       "      <th>4</th>\n",
       "      <td>5</td>\n",
       "      <td>112-5230502-8173028</td>\n",
       "      <td>2020-01-30</td>\n",
       "      <td>winter</td>\n",
       "    </tr>\n",
       "    <tr>\n",
       "      <th>5</th>\n",
       "      <td>6</td>\n",
       "      <td>112-7714081-3300254</td>\n",
       "      <td>2020-05-02</td>\n",
       "      <td>spring</td>\n",
       "    </tr>\n",
       "    <tr>\n",
       "      <th>6</th>\n",
       "      <td>7</td>\n",
       "      <td>114-5384551-1465853</td>\n",
       "      <td>2020-04-02</td>\n",
       "      <td>spring</td>\n",
       "    </tr>\n",
       "    <tr>\n",
       "      <th>7</th>\n",
       "      <td>8</td>\n",
       "      <td>114-7232801-4607440</td>\n",
       "      <td>2020-10-09</td>\n",
       "      <td>fall</td>\n",
       "    </tr>\n",
       "  </tbody>\n",
       "</table>\n",
       "</div>"
      ],
      "text/plain": [
       "   id               ORD_ID     ORD_DT  season\n",
       "0   1  113-8909896-6940269 2019-09-23    fall\n",
       "1   2  114-0291773-7262677 2020-01-01  winter\n",
       "2   3  114-0291773-7262697 2019-12-05    fall\n",
       "3   4  114-9900513-7761000 2020-09-24    fall\n",
       "4   5  112-5230502-8173028 2020-01-30  winter\n",
       "5   6  112-7714081-3300254 2020-05-02  spring\n",
       "6   7  114-5384551-1465853 2020-04-02  spring\n",
       "7   8  114-7232801-4607440 2020-10-09    fall"
      ]
     },
     "execution_count": 1,
     "metadata": {},
     "output_type": "execute_result"
    }
   ],
   "source": [
    "import pandas as pd\n",
    "df = pd.read_json('http://127.0.0.1:8000/api/dataframe/?format=json')\n",
    "df = pd.io.json.json_normalize(df.season)\n",
    "df['ORD_DT'] = pd.to_datetime(df['ORD_DT'])\n",
    "date = df.ORD_DT.dt.month*100 + df.ORD_DT.dt.day\n",
    "df['season'] = (pd.cut(date,[0,319,620,922,1220,1320],\n",
    "                       labels=['winter','spring','summer','fall','winter '])\n",
    "                  .str.strip()\n",
    "               )\n",
    "df"
   ]
  }
 ],
 "metadata": {
  "interpreter": {
   "hash": "6abe6c0388e9eb7ec21239e37a2447cb4df4eb5714fadc3132645106b2d0fca6"
  },
  "kernelspec": {
   "display_name": "Python 3.10.2 ('env': venv)",
   "language": "python",
   "name": "python3"
  },
  "language_info": {
   "codemirror_mode": {
    "name": "ipython",
    "version": 3
   },
   "file_extension": ".py",
   "mimetype": "text/x-python",
   "name": "python",
   "nbconvert_exporter": "python",
   "pygments_lexer": "ipython3",
   "version": "3.10.2"
  },
  "orig_nbformat": 4
 },
 "nbformat": 4,
 "nbformat_minor": 2
}
